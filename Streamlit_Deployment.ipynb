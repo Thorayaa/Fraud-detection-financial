{
  "nbformat": 4,
  "nbformat_minor": 0,
  "metadata": {
    "colab": {
      "provenance": []
    },
    "kernelspec": {
      "name": "python3",
      "display_name": "Python 3"
    },
    "language_info": {
      "name": "python"
    }
  },
  "cells": [
    {
      "cell_type": "code",
      "execution_count": null,
      "metadata": {
        "colab": {
          "base_uri": "https://localhost:8080/"
        },
        "id": "yFtbcOIYYIIv",
        "outputId": "7a176d34-94bc-48ba-d034-f1132baad07b"
      },
      "outputs": [
        {
          "output_type": "stream",
          "name": "stdout",
          "text": [
            "Collecting streamlit\n",
            "  Downloading streamlit-1.39.0-py2.py3-none-any.whl.metadata (8.5 kB)\n",
            "Requirement already satisfied: altair<6,>=4.0 in /usr/local/lib/python3.10/dist-packages (from streamlit) (4.2.2)\n",
            "Requirement already satisfied: blinker<2,>=1.0.0 in /usr/lib/python3/dist-packages (from streamlit) (1.4)\n",
            "Requirement already satisfied: cachetools<6,>=4.0 in /usr/local/lib/python3.10/dist-packages (from streamlit) (5.5.0)\n",
            "Requirement already satisfied: click<9,>=7.0 in /usr/local/lib/python3.10/dist-packages (from streamlit) (8.1.7)\n",
            "Requirement already satisfied: numpy<3,>=1.20 in /usr/local/lib/python3.10/dist-packages (from streamlit) (1.26.4)\n",
            "Requirement already satisfied: packaging<25,>=20 in /usr/local/lib/python3.10/dist-packages (from streamlit) (24.1)\n",
            "Requirement already satisfied: pandas<3,>=1.4.0 in /usr/local/lib/python3.10/dist-packages (from streamlit) (2.2.2)\n",
            "Requirement already satisfied: pillow<11,>=7.1.0 in /usr/local/lib/python3.10/dist-packages (from streamlit) (10.4.0)\n",
            "Requirement already satisfied: protobuf<6,>=3.20 in /usr/local/lib/python3.10/dist-packages (from streamlit) (3.20.3)\n",
            "Requirement already satisfied: pyarrow>=7.0 in /usr/local/lib/python3.10/dist-packages (from streamlit) (16.1.0)\n",
            "Requirement already satisfied: requests<3,>=2.27 in /usr/local/lib/python3.10/dist-packages (from streamlit) (2.32.3)\n",
            "Requirement already satisfied: rich<14,>=10.14.0 in /usr/local/lib/python3.10/dist-packages (from streamlit) (13.9.3)\n",
            "Requirement already satisfied: tenacity<10,>=8.1.0 in /usr/local/lib/python3.10/dist-packages (from streamlit) (9.0.0)\n",
            "Requirement already satisfied: toml<2,>=0.10.1 in /usr/local/lib/python3.10/dist-packages (from streamlit) (0.10.2)\n",
            "Requirement already satisfied: typing-extensions<5,>=4.3.0 in /usr/local/lib/python3.10/dist-packages (from streamlit) (4.12.2)\n",
            "Requirement already satisfied: gitpython!=3.1.19,<4,>=3.0.7 in /usr/local/lib/python3.10/dist-packages (from streamlit) (3.1.43)\n",
            "Collecting pydeck<1,>=0.8.0b4 (from streamlit)\n",
            "  Downloading pydeck-0.9.1-py2.py3-none-any.whl.metadata (4.1 kB)\n",
            "Requirement already satisfied: tornado<7,>=6.0.3 in /usr/local/lib/python3.10/dist-packages (from streamlit) (6.3.3)\n",
            "Collecting watchdog<6,>=2.1.5 (from streamlit)\n",
            "  Downloading watchdog-5.0.3-py3-none-manylinux2014_x86_64.whl.metadata (41 kB)\n",
            "\u001b[2K     \u001b[90m━━━━━━━━━━━━━━━━━━━━━━━━━━━━━━━━━━━━━━━━\u001b[0m \u001b[32m41.9/41.9 kB\u001b[0m \u001b[31m1.9 MB/s\u001b[0m eta \u001b[36m0:00:00\u001b[0m\n",
            "\u001b[?25hRequirement already satisfied: entrypoints in /usr/local/lib/python3.10/dist-packages (from altair<6,>=4.0->streamlit) (0.4)\n",
            "Requirement already satisfied: jinja2 in /usr/local/lib/python3.10/dist-packages (from altair<6,>=4.0->streamlit) (3.1.4)\n",
            "Requirement already satisfied: jsonschema>=3.0 in /usr/local/lib/python3.10/dist-packages (from altair<6,>=4.0->streamlit) (4.23.0)\n",
            "Requirement already satisfied: toolz in /usr/local/lib/python3.10/dist-packages (from altair<6,>=4.0->streamlit) (0.12.1)\n",
            "Requirement already satisfied: gitdb<5,>=4.0.1 in /usr/local/lib/python3.10/dist-packages (from gitpython!=3.1.19,<4,>=3.0.7->streamlit) (4.0.11)\n",
            "Requirement already satisfied: python-dateutil>=2.8.2 in /usr/local/lib/python3.10/dist-packages (from pandas<3,>=1.4.0->streamlit) (2.8.2)\n",
            "Requirement already satisfied: pytz>=2020.1 in /usr/local/lib/python3.10/dist-packages (from pandas<3,>=1.4.0->streamlit) (2024.2)\n",
            "Requirement already satisfied: tzdata>=2022.7 in /usr/local/lib/python3.10/dist-packages (from pandas<3,>=1.4.0->streamlit) (2024.2)\n",
            "Requirement already satisfied: charset-normalizer<4,>=2 in /usr/local/lib/python3.10/dist-packages (from requests<3,>=2.27->streamlit) (3.4.0)\n",
            "Requirement already satisfied: idna<4,>=2.5 in /usr/local/lib/python3.10/dist-packages (from requests<3,>=2.27->streamlit) (3.10)\n",
            "Requirement already satisfied: urllib3<3,>=1.21.1 in /usr/local/lib/python3.10/dist-packages (from requests<3,>=2.27->streamlit) (2.2.3)\n",
            "Requirement already satisfied: certifi>=2017.4.17 in /usr/local/lib/python3.10/dist-packages (from requests<3,>=2.27->streamlit) (2024.8.30)\n",
            "Requirement already satisfied: markdown-it-py>=2.2.0 in /usr/local/lib/python3.10/dist-packages (from rich<14,>=10.14.0->streamlit) (3.0.0)\n",
            "Requirement already satisfied: pygments<3.0.0,>=2.13.0 in /usr/local/lib/python3.10/dist-packages (from rich<14,>=10.14.0->streamlit) (2.18.0)\n",
            "Requirement already satisfied: smmap<6,>=3.0.1 in /usr/local/lib/python3.10/dist-packages (from gitdb<5,>=4.0.1->gitpython!=3.1.19,<4,>=3.0.7->streamlit) (5.0.1)\n",
            "Requirement already satisfied: MarkupSafe>=2.0 in /usr/local/lib/python3.10/dist-packages (from jinja2->altair<6,>=4.0->streamlit) (3.0.2)\n",
            "Requirement already satisfied: attrs>=22.2.0 in /usr/local/lib/python3.10/dist-packages (from jsonschema>=3.0->altair<6,>=4.0->streamlit) (24.2.0)\n",
            "Requirement already satisfied: jsonschema-specifications>=2023.03.6 in /usr/local/lib/python3.10/dist-packages (from jsonschema>=3.0->altair<6,>=4.0->streamlit) (2024.10.1)\n",
            "Requirement already satisfied: referencing>=0.28.4 in /usr/local/lib/python3.10/dist-packages (from jsonschema>=3.0->altair<6,>=4.0->streamlit) (0.35.1)\n",
            "Requirement already satisfied: rpds-py>=0.7.1 in /usr/local/lib/python3.10/dist-packages (from jsonschema>=3.0->altair<6,>=4.0->streamlit) (0.20.0)\n",
            "Requirement already satisfied: mdurl~=0.1 in /usr/local/lib/python3.10/dist-packages (from markdown-it-py>=2.2.0->rich<14,>=10.14.0->streamlit) (0.1.2)\n",
            "Requirement already satisfied: six>=1.5 in /usr/local/lib/python3.10/dist-packages (from python-dateutil>=2.8.2->pandas<3,>=1.4.0->streamlit) (1.16.0)\n",
            "Downloading streamlit-1.39.0-py2.py3-none-any.whl (8.7 MB)\n",
            "\u001b[2K   \u001b[90m━━━━━━━━━━━━━━━━━━━━━━━━━━━━━━━━━━━━━━━━\u001b[0m \u001b[32m8.7/8.7 MB\u001b[0m \u001b[31m47.4 MB/s\u001b[0m eta \u001b[36m0:00:00\u001b[0m\n",
            "\u001b[?25hDownloading pydeck-0.9.1-py2.py3-none-any.whl (6.9 MB)\n",
            "\u001b[2K   \u001b[90m━━━━━━━━━━━━━━━━━━━━━━━━━━━━━━━━━━━━━━━━\u001b[0m \u001b[32m6.9/6.9 MB\u001b[0m \u001b[31m66.6 MB/s\u001b[0m eta \u001b[36m0:00:00\u001b[0m\n",
            "\u001b[?25hDownloading watchdog-5.0.3-py3-none-manylinux2014_x86_64.whl (79 kB)\n",
            "\u001b[2K   \u001b[90m━━━━━━━━━━━━━━━━━━━━━━━━━━━━━━━━━━━━━━━━\u001b[0m \u001b[32m79.3/79.3 kB\u001b[0m \u001b[31m6.4 MB/s\u001b[0m eta \u001b[36m0:00:00\u001b[0m\n",
            "\u001b[?25hInstalling collected packages: watchdog, pydeck, streamlit\n",
            "Successfully installed pydeck-0.9.1 streamlit-1.39.0 watchdog-5.0.3\n",
            "Collecting pyngrok\n",
            "  Downloading pyngrok-7.2.0-py3-none-any.whl.metadata (7.4 kB)\n",
            "Requirement already satisfied: PyYAML>=5.1 in /usr/local/lib/python3.10/dist-packages (from pyngrok) (6.0.2)\n",
            "Downloading pyngrok-7.2.0-py3-none-any.whl (22 kB)\n",
            "Installing collected packages: pyngrok\n",
            "Successfully installed pyngrok-7.2.0\n"
          ]
        }
      ],
      "source": [
        "!pip install streamlit\n",
        "!pip install pyngrok"
      ]
    },
    {
      "cell_type": "code",
      "source": [
        "!wget https://github.com/OmarAshraf772/OmarAbuzied/raw/refs/heads/main/Projects/depi/deployment.zip"
      ],
      "metadata": {
        "colab": {
          "base_uri": "https://localhost:8080/"
        },
        "id": "wyeZE6L57reP",
        "outputId": "776be69e-b197-411f-ca7d-9f256b99270f"
      },
      "execution_count": null,
      "outputs": [
        {
          "output_type": "stream",
          "name": "stdout",
          "text": [
            "--2024-10-27 06:49:39--  https://github.com/OmarAshraf772/OmarAbuzied/raw/refs/heads/main/Projects/depi/deployment.zip\n",
            "Resolving github.com (github.com)... 140.82.114.4\n",
            "Connecting to github.com (github.com)|140.82.114.4|:443... connected.\n",
            "HTTP request sent, awaiting response... 302 Found\n",
            "Location: https://raw.githubusercontent.com/OmarAshraf772/OmarAbuzied/refs/heads/main/Projects/depi/deployment.zip [following]\n",
            "--2024-10-27 06:49:40--  https://raw.githubusercontent.com/OmarAshraf772/OmarAbuzied/refs/heads/main/Projects/depi/deployment.zip\n",
            "Resolving raw.githubusercontent.com (raw.githubusercontent.com)... 185.199.110.133, 185.199.111.133, 185.199.108.133, ...\n",
            "Connecting to raw.githubusercontent.com (raw.githubusercontent.com)|185.199.110.133|:443... connected.\n",
            "HTTP request sent, awaiting response... 200 OK\n",
            "Length: 11963087 (11M) [application/zip]\n",
            "Saving to: ‘deployment.zip’\n",
            "\n",
            "deployment.zip      100%[===================>]  11.41M  71.8MB/s    in 0.2s    \n",
            "\n",
            "2024-10-27 06:49:40 (71.8 MB/s) - ‘deployment.zip’ saved [11963087/11963087]\n",
            "\n"
          ]
        }
      ]
    },
    {
      "cell_type": "code",
      "source": [
        "import zipfile\n",
        "zip_path = '/content/deployment.zip'\n",
        "with zipfile.ZipFile(zip_path, 'r') as zip_ref:\n",
        "    zip_ref.extractall('/content')"
      ],
      "metadata": {
        "id": "ElL3YRH3YtZS"
      },
      "execution_count": null,
      "outputs": []
    },
    {
      "cell_type": "code",
      "source": [
        "%%writefile app.py\n",
        "import zipfile\n",
        "import pandas as pd\n",
        "import joblib\n",
        "import streamlit as st\n",
        "#from sklearn.preprocessing import StandardScaler\n",
        "\n",
        "# Load the model, encoder, scaler, and imputer\n",
        "model = joblib.load('/content/xgb_model (1).pkl')\n",
        "le = joblib.load('/content/encoders.pkl')\n",
        "scaler = joblib.load('/content/standard_scaler (2).pkl')\n",
        "\n",
        "# Ensure these variables are defined\n",
        "data = pd.read_csv('/content/dataExtracted.csv')\n",
        "VALID_STATE_ABBREVIATIONS = data['state'].unique().tolist()\n",
        "VALID_JOBS = data['job'].unique().tolist()\n",
        "VALID_CATEGORIES = data['category'].unique().tolist()\n",
        "\n",
        "def categorize_numeric_features(input_df):\n",
        "    input_df['Age_Category'] = pd.cut(input_df['age'],\n",
        "                                       bins=[0, 18, 35, 55, float('inf')],\n",
        "                                       labels=['Child', 'Young Adult', 'Adult', 'Senior'],\n",
        "                                       right=False)\n",
        "    input_df['population_cat'] = pd.cut(input_df['population'],\n",
        "                                         bins=[0, 2500, 20000, 100000, float('inf')],\n",
        "                                         labels=['Very Small', 'Small', 'Large', 'Very Large'],\n",
        "                                         right=False)\n",
        "    return input_df\n",
        "\n",
        "def preprocess_user_input(user_input):\n",
        "    input_df = pd.DataFrame([user_input])\n",
        "    original_input_df = input_df.copy()\n",
        "    input_df = categorize_numeric_features(input_df)\n",
        "    input_df.drop(columns=['age', 'population'], inplace=True, errors='ignore')\n",
        "\n",
        "    for column in ['Hour_Category', 'Displacement_Category', 'state', 'gender', 'job', 'category', 'Age_Category', 'population_cat']:\n",
        "        if column in le:\n",
        "            input_df[column] = le[column].transform(input_df[column])\n",
        "\n",
        "    if 'amt' in input_df.columns:\n",
        "        input_df[['amt']] = scaler.transform(input_df[['amt']])\n",
        "\n",
        "    expected_feature_order = ['category', 'amt', 'gender', 'state', 'job',\n",
        "                              'Hour_Category', 'Age_Category', 'Displacement_Category',\n",
        "                              'population_cat']\n",
        "    input_df = input_df.reindex(columns=expected_feature_order)\n",
        "    return original_input_df, input_df\n",
        "\n",
        "def make_prediction(user_input):\n",
        "    original_input_df, processed_input = preprocess_user_input(user_input)\n",
        "    prediction = model.predict(processed_input)\n",
        "    prediction_result = \"Fraud\" if prediction[0] == 1 else \"Not Fraud\"\n",
        "    return prediction_result, original_input_df, processed_input\n",
        "\n",
        "# Define Streamlit application\n",
        "st.title(\"Fraud Prediction App\")\n",
        "\n",
        "amt = st.number_input(\"Transaction Amount\")\n",
        "Hour_Category = st.selectbox(\"Hour Category\", options=['Early Morning', 'Morning', 'Afternoon', 'Evening'])\n",
        "age = st.number_input(\"Age\")\n",
        "population = st.number_input(\"City Population\")\n",
        "Displacement_Category = st.selectbox(\"Displacement Category\", options=['Very Close', 'Close', 'Moderate', 'Far'])\n",
        "state = st.selectbox(\"State Abbreviation\", options=VALID_STATE_ABBREVIATIONS)\n",
        "gender = st.selectbox(\"Gender\", options=['M', 'F'])\n",
        "job = st.selectbox(\"Job\", options=VALID_JOBS)\n",
        "other_job = st.text_input(\"If 'Other', please specify:\")\n",
        "category = st.selectbox(\"Transaction Category\", options=VALID_CATEGORIES)\n",
        "\n",
        "if job == \"Other\":\n",
        "    job = other_job\n",
        "\n",
        "if st.button(\"Predict\"):\n",
        "    user_input = {\n",
        "        \"category\": category,\n",
        "        \"amt\": amt,\n",
        "        \"gender\": gender,\n",
        "        \"state\": state,\n",
        "        \"job\": job,\n",
        "        \"Hour_Category\": Hour_Category,\n",
        "        \"age\": age,\n",
        "        \"Displacement_Category\": Displacement_Category,\n",
        "        \"population\": population,\n",
        "    }\n",
        "\n",
        "    prediction_result, original_input_df, processed_input = make_prediction(user_input)\n",
        "    st.warning(f\"Prediction: {prediction_result}\")\n",
        "\n",
        "    # Save the original user input and processed input to CSV\n",
        "    user_input_csv_path = \"user_input_data.csv\"\n",
        "    processed_input_csv_path = \"processed_input_data.csv\"\n",
        "\n",
        "    original_input_df.to_csv(user_input_csv_path, index=False)\n",
        "    processed_input.to_csv(processed_input_csv_path, index=False)\n",
        "\n",
        "    # Provide download buttons for the CSV files\n",
        "    #with open(user_input_csv_path, \"rb\") as f:\n",
        "     #   st.download_button(label=\"Download User Input CSV\", data=f, file_name=\"user_input_data.csv\")\n",
        "\n",
        "    #with open(processed_input_csv_path, \"rb\") as f:\n",
        "     #   st.download_button(label=\"Download Processed Input CSV\", data=f, file_name=\"processed_input_data.csv\")"
      ],
      "metadata": {
        "colab": {
          "base_uri": "https://localhost:8080/"
        },
        "id": "3m4WkOZxYKh9",
        "outputId": "5d056609-d99d-484b-fb77-bd45085223aa"
      },
      "execution_count": null,
      "outputs": [
        {
          "output_type": "stream",
          "name": "stdout",
          "text": [
            "Overwriting app.py\n"
          ]
        }
      ]
    },
    {
      "cell_type": "code",
      "source": [
        "! wget -q -O - ipv4.icanhazip.com"
      ],
      "metadata": {
        "colab": {
          "base_uri": "https://localhost:8080/"
        },
        "id": "RztmGY34dqC4",
        "outputId": "4cbe44c3-0afc-47e3-c217-dc6b0ea4e599"
      },
      "execution_count": null,
      "outputs": [
        {
          "output_type": "stream",
          "name": "stdout",
          "text": [
            "35.229.49.76\n"
          ]
        }
      ]
    },
    {
      "cell_type": "code",
      "source": [
        "! streamlit run app.py & npx localtunnel --port 8501"
      ],
      "metadata": {
        "colab": {
          "base_uri": "https://localhost:8080/"
        },
        "id": "HCw0PH-qdtyv",
        "outputId": "94d05ebc-424d-4363-a788-0bdf968076e7"
      },
      "execution_count": null,
      "outputs": [
        {
          "output_type": "stream",
          "name": "stdout",
          "text": [
            "\n",
            "Collecting usage statistics. To deactivate, set browser.gatherUsageStats to false.\n",
            "\u001b[0m\n",
            "\u001b[0m\n",
            "\u001b[34m\u001b[1m  You can now view your Streamlit app in your browser.\u001b[0m\n",
            "\u001b[0m\n",
            "\u001b[34m  Local URL: \u001b[0m\u001b[1mhttp://localhost:8501\u001b[0m\n",
            "\u001b[34m  Network URL: \u001b[0m\u001b[1mhttp://172.28.0.12:8501\u001b[0m\n",
            "\u001b[34m  External URL: \u001b[0m\u001b[1mhttp://35.229.49.76:8501\u001b[0m\n",
            "\u001b[0m\n",
            "your url is: https://fresh-results-prove.loca.lt\n",
            "\u001b[34m  Stopping...\u001b[0m\n",
            "^C\n"
          ]
        }
      ]
    }
  ]
}